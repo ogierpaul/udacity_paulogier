{
 "cells": [
  {
   "cell_type": "markdown",
   "metadata": {},
   "source": [
    "With C the probability of having cancer, T the probability of the test being positive:  \n",
    "- $P(C) = 0.01$  \n",
    "- $P(T \\mid C) = 0.9$  \n",
    "- $P(T \\mid \\bar{C})=0.1$"
   ]
  },
  {
   "cell_type": "markdown",
   "metadata": {},
   "source": [
    "$P(A \\mid B)=\\frac{P(A \\cap B)}{P(B)}$  \n",
    "$P(B\\mid A) = \\frac{P(B)\\cdot P(A \\mid B)}{P(A)}$  \n",
    "where:  \n",
    "$P(A)=P(B)\\cdot P(A \\mid B)+P(\\bar{B})\\cdot P(A \\mid \\bar{B})$"
   ]
  },
  {
   "cell_type": "code",
   "execution_count": 54,
   "metadata": {
    "collapsed": true
   },
   "outputs": [],
   "source": [
    "p_b=0.5\n",
    "p_a_b=0.08\n",
    "p_a_bbar=0.1\n",
    "\n",
    "p_bbar=1-p_b\n",
    "p_a=(p_b*p_a_b)+(p_bbar)*p_a_bbar\n",
    "\n",
    "p_b_a=(p_b*p_a_b)/(p_a)\n",
    "p_bbar_a=(p_bbar*p_a_bbar)/p_a\n",
    "\n",
    "p_bIa=p_a_b*p_b\n",
    "p_b_a=p_bIa/p_a"
   ]
  },
  {
   "cell_type": "code",
   "execution_count": 52,
   "metadata": {
    "collapsed": false
   },
   "outputs": [],
   "source": []
  },
  {
   "cell_type": "code",
   "execution_count": null,
   "metadata": {
    "collapsed": true
   },
   "outputs": [],
   "source": []
  }
 ],
 "metadata": {
  "kernelspec": {
   "display_name": "Python 3",
   "language": "python",
   "name": "python3"
  },
  "language_info": {
   "codemirror_mode": {
    "name": "ipython",
    "version": 3
   },
   "file_extension": ".py",
   "mimetype": "text/x-python",
   "name": "python",
   "nbconvert_exporter": "python",
   "pygments_lexer": "ipython3",
   "version": "3.6.1"
  }
 },
 "nbformat": 4,
 "nbformat_minor": 2
}
